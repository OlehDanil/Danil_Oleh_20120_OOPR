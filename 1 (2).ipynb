{
 "cells": [
  {
   "cell_type": "markdown",
   "metadata": {},
   "source": [
    "### Ключевые слова, все это разбираем на основе данной задачи: принцип DRY, super, isinstance, `__init__`, `__setitem__`, append, staticmethod, private members, API, unit testing, modules, if name main, Poetry.  \n",
    "\n",
    "Создается проект, в котором предполагается использовать списки из целых чисел. Для этого вам ставится задача создать класс с именем `ListInteger` с базовым классом list и переопределить три метода:\n",
    "\n",
    "- `__init__()`\n",
    "- `__setitem__()`\n",
    "- `append()`\n",
    "\n",
    "так, чтобы список ListInteger содержал только целые числа. При попытке присвоить любой другой тип данных, генерировать исключение командой:\n",
    "```Py\n",
    "raise TypeError('можно передавать только целочисленные значения')\n",
    "```\n",
    "Пример использования класса ListInteger:\n",
    "```Py\n",
    "s = ListInteger((1, 2, 3))\n",
    "s[1] = 10\n",
    "s.append(11)\n",
    "print(s)\n",
    "s[0] = 10.5 # TypeError\n",
    "```\n",
    "\n",
    "- Необходимо инициализировать проект с помощью Poetry.\n",
    "- Реализовать класс ListInteger.\n",
    "- Далее необходимо написать несколько unit тестов и успешно их запустить.\n",
    "- Далее необходимо данный класс выделить в модуль. В main.py файле импортировать данный класс и успешно использовать его API."
   ]
  },
  {
   "cell_type": "code",
   "execution_count": 5,
   "metadata": {},
   "outputs": [
    {
     "name": "stdout",
     "output_type": "stream",
     "text": [
      "[1, 10, 3, 11]\n"
     ]
    }
   ],
   "source": [
    "class ListInteger(list):\n",
    "    def __init__(self, initial_list=None):\n",
    "        super().__init__()\n",
    "        if initial_list is not None:\n",
    "            for item in initial_list:\n",
    "                self.append(item)  # Используем переопределённый append\n",
    "\n",
    "    def __setitem__(self, key, value):\n",
    "        if not isinstance(value, int):\n",
    "            raise TypeError('можно передавать только целочисленные значения')\n",
    "        super().__setitem__(key, value)\n",
    "\n",
    "    def append(self, value):\n",
    "        if not isinstance(value, int):\n",
    "            raise TypeError('можно передавать только целочисленные значения')\n",
    "        super().append(value)\n",
    "\n",
    "s = ListInteger((1, 2, 3))\n",
    "s[1] = 10\n",
    "s.append(11)\n",
    "print(s)\n",
    "s[0] = 1"
   ]
  }
 ],
 "metadata": {
  "kernelspec": {
   "display_name": "base",
   "language": "python",
   "name": "python3"
  },
  "language_info": {
   "codemirror_mode": {
    "name": "ipython",
    "version": 3
   },
   "file_extension": ".py",
   "mimetype": "text/x-python",
   "name": "python",
   "nbconvert_exporter": "python",
   "pygments_lexer": "ipython3",
   "version": "3.11.5"
  }
 },
 "nbformat": 4,
 "nbformat_minor": 2
}

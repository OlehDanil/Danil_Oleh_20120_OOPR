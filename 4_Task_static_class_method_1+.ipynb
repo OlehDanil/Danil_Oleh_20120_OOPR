{
 "cells": [
  {
   "attachments": {},
   "cell_type": "markdown",
   "metadata": {},
   "source": [
    "1) В чем отличие между методами класса (объявленными через @classmethod) и статическими методами (объявленными через @staticmethod)?\n",
    "\n",
    "    1) статические методы предназначены для работы с локальными атрибутами объектов класса, а методы класса не имеют такой возможности\n",
    "\n",
    "    2) статические методы предназначены для работы с атрибутами класса и переданными аргументами, а методы класса - только с переданными им аргументами\n",
    "\n",
    "    3) методы класса предназначены для работы с атрибутами класса и переданными аргументами, а статические - только с переданными им аргументами\n",
    "\n",
    "    4) методы класса способны обращаться и к атрибутам класса и к локальным атрибутам объекта, из которого они были вызваны, а статические методы работают только с переданными им аргументами"
   ]
  },
  {
   "cell_type": "markdown",
   "metadata": {},
   "source": [
    "методы класса предназначены для работы с атрибутами класса и переданными аргументами, а статические - только с переданными им аргументами"
   ]
  },
  {
   "attachments": {},
   "cell_type": "markdown",
   "metadata": {},
   "source": [
    "2) За что отвечает параметр cls в методах класса, объявленных следующим образом:\n",
    "\n",
    "```\n",
    "class Loader:\n",
    "    @classmethod\n",
    "    def json_parse(cls): ...\n",
    "```\n",
    "\n",
    "1) Ссылка на текущий метод\n",
    "\n",
    "2) Ссылка на экземпляр класса, из которого вызван метод\n",
    "\n",
    "3) Ссылка на класс Loader\n",
    "\n",
    "4) Ссылка на базовый класс"
   ]
  },
  {
   "cell_type": "markdown",
   "metadata": {},
   "source": [
    "Ссылка на класс Loader"
   ]
  },
  {
   "attachments": {},
   "cell_type": "markdown",
   "metadata": {},
   "source": [
    "3) В программе объявлен следующий класс с одним методом:\n",
    "```\n",
    "class Math:\n",
    "    @staticmethod\n",
    "    def sqrt(x):\n",
    "        return x ** 0.5\n",
    "```\n",
    "И создается объект этого класса:\n",
    "```\n",
    "m = Math()\n",
    "```\n",
    "Выберите все верные варианты вызова метода sqrt:\n",
    "\n",
    "\n",
    "1) res = Math.sqrt(m, 4)\n",
    "\n",
    "2) res = Math.sqrt(4)\n",
    "\n",
    "3) res = m.sqrt(2)\n",
    "\n",
    "4) m.Math.sqrt(3)"
   ]
  },
  {
   "cell_type": "markdown",
   "metadata": {},
   "source": [
    "res = Math.sqrt(4)\n",
    "\n",
    "res = m.sqrt(2)"
   ]
  },
  {
   "attachments": {},
   "cell_type": "markdown",
   "metadata": {},
   "source": [
    "# 1) Task on @staticmethod"
   ]
  },
  {
   "attachments": {},
   "cell_type": "markdown",
   "metadata": {},
   "source": [
    "В программе предполагается реализовать парсер (обработчик) строки с данными string в определенный выходной формат. Для этого объявлен следующий класс:\n",
    "```\n",
    "class Loader:\n",
    "    @staticmethod\n",
    "    def parse_format(string, factory):\n",
    "        seq = factory.build_sequence()\n",
    "        for sub in string.split(\",\"):\n",
    "            item = factory.build_number(sub)\n",
    "            seq.append(item)\n",
    "\n",
    "        return seq\n",
    "```\n",
    "И предполагается его использовать следующим образом:\n",
    "```\n",
    "res = Loader.parse_format(\"4, 5, -6\", Factory)\n",
    "```\n",
    "На выходе (в переменной res) ожидается получать список из набора целых чисел. Например, для заданной строки, должно получиться:\n",
    "\n",
    "[4, 5, -6]\n",
    "\n",
    "Для реализации этой идеи необходимо вначале программы прописать класс Factory с двумя статическими методами:\n",
    "\n",
    "build_sequence() - для создания пустого списка (метод возвращает пустой список);\n",
    "build_number(string) - для преобразования строки (string) в целое число (метод возвращает полученное целочисленное значение).\n",
    "\n",
    "Объявите класс с именем Factory, чтобы получать на выходе искомый результат.\n",
    "\n",
    "P.S. В программе на экран ничего выводить не нужно."
   ]
  },
  {
   "cell_type": "code",
   "execution_count": 1,
   "metadata": {},
   "outputs": [],
   "source": [
    "class Factory:\n",
    "    @staticmethod\n",
    "    def build_sequence():\n",
    "        return []\n",
    "\n",
    "    @staticmethod\n",
    "    def build_number(string):\n",
    "        return int(string)\n",
    "class Loader:\n",
    "    @staticmethod\n",
    "    def parse_format(string, factory):\n",
    "        seq = factory.build_sequence()\n",
    "        for sub in string.split(\",\"):\n",
    "            item = factory.build_number(sub)\n",
    "            seq.append(item)\n",
    "\n",
    "        return seq\n",
    "\n",
    "res = Loader.parse_format(\"1, 2, 3, -5, 10\", Factory)"
   ]
  },
  {
   "attachments": {},
   "cell_type": "markdown",
   "metadata": {},
   "source": [
    "# 2) Task on @classmethod"
   ]
  },
  {
   "attachments": {},
   "cell_type": "markdown",
   "metadata": {},
   "source": [
    "В программе объявлен следующий класс для работы с формами ввода логин/пароль:\n",
    "```\n",
    "class FormLogin:\n",
    "    def __init__(self, lgn, psw):\n",
    "        self.login = lgn\n",
    "        self.password = psw\n",
    "\n",
    "    def render_template(self):\n",
    "        return \"\\n\".join(['<form action=\"#\">', self.login.get_html(), self.password.get_html(), '</form>'])\n",
    "```\n",
    "Который предполагается использовать следующим образом:\n",
    "```\n",
    "login = FormLogin(TextInput(\"Логин\"), PasswordInput(\"Пароль\"))\n",
    "html = login.render_template()\n",
    "```\n",
    "Необходимо прописать классы TextInput и PasswordInput, объекты которых формируются командами:\n",
    "\n",
    "```\n",
    "login = TextInput(name, size)\n",
    "psw = PasswordInput(name, size)\n",
    "```\n",
    "В каждом объекте этих классов должны быть следующие локальные свойства:\n",
    "\n",
    "name - название для поля (сохраняет передаваемое имя, например, \"Логин\" или \"Пароль\");\n",
    "size - размер поля ввода (целое число, по умолчанию 10).\n",
    "\n",
    "Также классы TextInput и PasswordInput должны иметь метод:\n",
    "\n",
    "get_html(self) - возвращает сформированную HTML-строку в формате (1-я строка для класса TextInput ; 2-я - для класса PasswordInput):\n",
    "```\n",
    "<p class='login'><имя поля>: <input type='text' size=<размер поля> />\n",
    "<p class='password'><имя поля>: <input type='text' size=<размер поля> />\n",
    "```\n",
    "Например, для поля login:\n",
    "```\n",
    "<p class='login'>Логин: <input type='text' size=10 />\n",
    "```\n",
    "Также классы TextInput и PasswordInput должны иметь метод класса (@classmethod):\n",
    "\n",
    "check_name(cls, name) - для проверки корректности переданного имя поля (следует вызывать в инициализаторе) по следующим критериям:\n",
    "\n",
    "- длина имени не менее 3 символов и не более 50;\n",
    "- в именах могут использоваться только символы русского, английского алфавитов, цифры и пробелы\n",
    "\n",
    "Если проверка не проходит, то генерировать исключение командой:\n",
    "```\n",
    "raise ValueError(\"некорректное поле name\")\n",
    "```\n",
    "Для проверки допустимых символов в каждом классе должен быть прописан атрибут CHARS_CORRECT:\n",
    "```\n",
    "CHARS = \"абвгдеёжзийклмнопрстуфхцчшщьыъэюя \" + ascii_lowercase\n",
    "CHARS_CORRECT = CHARS + CHARS.upper() + digits\n",
    "```\n",
    "По заданию нужно объявить только классы TextInput и PasswordInput с соответствующим функционалом. Более ничего.\n",
    "\n",
    "P. S. В данном задании получится дублирование кода в классах TextInput и PasswordInput. На данном этапе - это нормально."
   ]
  },
  {
   "cell_type": "code",
   "execution_count": 13,
   "metadata": {},
   "outputs": [],
   "source": [
    "from string import ascii_lowercase, digits\n",
    "from string import ascii_lowercase, digits\n",
    "\n",
    "class TextInput:\n",
    "    CHARS = \"абвгдеёжзийклмнопрстуфхцчшщьыъэюя \" + ascii_lowercase\n",
    "    CHARS_CORRECT = CHARS + CHARS.upper() + digits\n",
    "\n",
    "    def __init__(self, name, size=10):\n",
    "        self.check_name(name)\n",
    "        self.name = name\n",
    "        self.size = size\n",
    "\n",
    "    def get_html(self):\n",
    "        return f\"<p class='login'>{self.name}: <input type='text' size={self.size} />\"\n",
    "\n",
    "    @classmethod\n",
    "    def check_name(cls, name):\n",
    "        if not (3 <= len(name) <= 50 and all(char in cls.CHARS_CORRECT for char in name)):\n",
    "            raise ValueError(\"некорректное поле name\")\n",
    "\n",
    "class PasswordInput:\n",
    "    CHARS = \"абвгдеёжзийклмнопрстуфхцчшщьыъэюя \" + ascii_lowercase\n",
    "    CHARS_CORRECT = CHARS + CHARS.upper() + digits\n",
    "\n",
    "    def __init__(self, name, size=10):\n",
    "        self.check_name(name)\n",
    "        self.name = name\n",
    "        self.size = size\n",
    "\n",
    "    def get_html(self):\n",
    "        return f\"<p class='password'>{self.name}: <input type='text' size={self.size} />\"\n",
    "\n",
    "    @classmethod\n",
    "    def check_name(cls, name):\n",
    "        if not (3 <= len(name) <= 50 and all(char in cls.CHARS_CORRECT for char in name)):\n",
    "            raise ValueError(\"некорректное поле name\")\n",
    "\n",
    "class FormLogin:\n",
    "    def __init__(self, lgn, psw):\n",
    "        self.login = lgn\n",
    "        self.password = psw\n",
    "\n",
    "    def render_template(self):\n",
    "        return \"\\n\".join(['<form action=\"#\">', self.login.get_html(), self.password.get_html(), '</form>'])\n",
    "\n",
    "\n",
    "# эти строчки не менять\n",
    "login = FormLogin(TextInput(\"Логин\"), PasswordInput(\"Пароль\"))\n",
    "html = login.render_template()\n",
    "assert isinstance(login, FormLogin)\n",
    "class TextInput2:\n",
    "    def __init__(self, name, size=10):\n",
    "        self.name = name\n",
    "        self.size = size\n",
    "    def get_html(self):\n",
    "        return f\"<p class='login'>{self.name}: <input type='text' size={self.size} />\"\n",
    "\n",
    "class PasswordInput2:\n",
    "    def __init__(self, name, size=10):\n",
    "        self.name = name\n",
    "        self.size = size\n",
    "    def get_html(self):\n",
    "        return f\"<p class='password'>{self.name}: <input type='text' size={self.size} />\"\n",
    "f1_1 = TextInput(\"Login123\")\n",
    "f1_2 = PasswordInput(\"Psw\")\n",
    "f2_1 = TextInput2(\"Login123\")\n",
    "f2_2 = PasswordInput2(\"Psw\")\n",
    "f11 = f1_1.get_html().replace(' ', '').replace('\\'', '\"')\n",
    "f12 = f1_2.get_html().replace(' ', '').replace('\\'', '\"')\n",
    "f21 = f2_1.get_html().replace(' ', '').replace('\\'', '\"')\n",
    "f22 = f2_2.get_html().replace(' ', '').replace('\\'', '\"')\n",
    "assert f11 == f21 and f12 == f22, \"неверное возвращаемое значение методом get_html\"\n",
    "\n",
    "try:\n",
    "    a = TextInput('aa')\n",
    "except ValueError:\n",
    "    assert True\n",
    "else:\n",
    "    assert False, \"не сгенерировалось исключение ValueError\"\n",
    "    \n",
    "try:\n",
    "    a = PasswordInput('aa')\n",
    "except ValueError:\n",
    "    assert True\n",
    "else:\n",
    "    assert False, \"не сгенерировалось исключение ValueError\""
   ]
  },
  {
   "cell_type": "markdown",
   "metadata": {},
   "source": []
  },
  {
   "attachments": {},
   "cell_type": "markdown",
   "metadata": {},
   "source": [
    "# Q"
   ]
  },
  {
   "attachments": {},
   "cell_type": "markdown",
   "metadata": {},
   "source": [
    "1) 3 \n",
    "методы класса предназначены для работы с атрибутами класса и переданными аргументами, а статические - только с переданными им аргументами"
   ]
  },
  {
   "attachments": {},
   "cell_type": "markdown",
   "metadata": {},
   "source": [
    "2) 3 Ссылка на класс Loader"
   ]
  },
  {
   "attachments": {},
   "cell_type": "markdown",
   "metadata": {},
   "source": [
    "3) 2,3 \n",
    "\n",
    "res = Math.sqrt(4)\n",
    "\n",
    "res = m.sqrt(2)"
   ]
  },
  {
   "attachments": {},
   "cell_type": "markdown",
   "metadata": {},
   "source": [
    "# ОСТОРОЖНО, НИЖЕ ПРОВЕРКА ВТОРОГО ЗАДАНИЯ. Делаем сами."
   ]
  },
  {
   "cell_type": "markdown",
   "metadata": {},
   "source": []
  },
  {
   "cell_type": "markdown",
   "metadata": {},
   "source": []
  },
  {
   "cell_type": "markdown",
   "metadata": {},
   "source": []
  },
  {
   "cell_type": "markdown",
   "metadata": {},
   "source": []
  },
  {
   "cell_type": "markdown",
   "metadata": {},
   "source": []
  },
  {
   "cell_type": "code",
   "execution_count": null,
   "metadata": {},
   "outputs": [],
   "source": [
    "assert isinstance(login, FormLogin)\n",
    "class TextInput2:\n",
    "    def __init__(self, name, size=10):\n",
    "        self.name = name\n",
    "        self.size = size\n",
    "    def get_html(self):\n",
    "        return f\"<p class='login'>{self.name}: <input type='text' size={self.size} />\"\n",
    "\n",
    "class PasswordInput2:\n",
    "    def __init__(self, name, size=10):\n",
    "        self.name = name\n",
    "        self.size = size\n",
    "    def get_html(self):\n",
    "        return f\"<p class='password'>{self.name}: <input type='text' size={self.size} />\"\n",
    "f1_1 = TextInput(\"Login123\")\n",
    "f1_2 = PasswordInput(\"Psw\")\n",
    "f2_1 = TextInput2(\"Login123\")\n",
    "f2_2 = PasswordInput2(\"Psw\")\n",
    "f11 = f1_1.get_html().replace(' ', '').replace('\\'', '\"')\n",
    "f12 = f1_2.get_html().replace(' ', '').replace('\\'', '\"')\n",
    "f21 = f2_1.get_html().replace(' ', '').replace('\\'', '\"')\n",
    "f22 = f2_2.get_html().replace(' ', '').replace('\\'', '\"')\n",
    "assert f11 == f21 and f12 == f22, \"неверное возвращаемое значение методом get_html\"\n",
    "\n",
    "try:\n",
    "    a = TextInput('aa')\n",
    "except ValueError:\n",
    "    assert True\n",
    "else:\n",
    "    assert False, \"не сгенерировалось исключение ValueError\"\n",
    "    \n",
    "try:\n",
    "    a = PasswordInput('aa')\n",
    "except ValueError:\n",
    "    assert True\n",
    "else:\n",
    "    assert False, \"не сгенерировалось исключение ValueError\"\n"
   ]
  }
 ],
 "metadata": {
  "kernelspec": {
   "display_name": "Python 3",
   "language": "python",
   "name": "python3"
  },
  "language_info": {
   "codemirror_mode": {
    "name": "ipython",
    "version": 3
   },
   "file_extension": ".py",
   "mimetype": "text/x-python",
   "name": "python",
   "nbconvert_exporter": "python",
   "pygments_lexer": "ipython3",
   "version": "3.12.0"
  },
  "orig_nbformat": 4
 },
 "nbformat": 4,
 "nbformat_minor": 2
}

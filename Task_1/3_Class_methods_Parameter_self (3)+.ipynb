{
 "cells": [
  {
   "cell_type": "markdown",
   "metadata": {
    "id": "pBdey2MeIoKl"
   },
   "source": [
    "# Class methods. Parameter self\n",
    "# Методы классов. Параметр self"
   ]
  },
  {
   "cell_type": "markdown",
   "metadata": {
    "id": "e4h8dY6lJKTm"
   },
   "source": [
    "Как уже говорилось ранее, класс может содержать свойства (данные) и методы (функции). Благодаря методам внутри класса можно реализовывать самые разные алгоритмы, то есть методы – это действия. Именно поэтому, в названиях методов используют глаголы, например:\n",
    "\n",
    "set_value, get_param, start, stop, и т.п.\n",
    "\n",
    "В то время как именами свойств (данных) выступают существительные:\n",
    "\n",
    "color, size, x, y, и т.п.\n",
    "\n",
    "Рекомендуется придерживаться этого простого правила.\n",
    "\n",
    "Давайте, для примера объявим метод set_coords в классе Point, который будет просто выводить в консоль сообщение «вызов метода set_coords»:"
   ]
  },
  {
   "cell_type": "code",
   "execution_count": 1,
   "metadata": {
    "id": "Gn4dKzX2JAJ6"
   },
   "outputs": [],
   "source": [
    "class Point:\n",
    "    color = 'red'\n",
    "    circle = 2\n",
    " \n",
    "    def set_coords(self):\n",
    "        print(\"вызов метода set_coords\")"
   ]
  },
  {
   "cell_type": "markdown",
   "metadata": {
    "id": "fUD3H4h6JO45"
   },
   "source": [
    "Здесь сразу бросается в глаза вот этот параметр self, который автоматически прописывает интегрированная среда. Зачем он здесь, если мы пока ничего не собираемся передавать этому методу? Давайте его уберем! Пока никаких проблем не возникло. Мало того, мы можем его вызвать из класса Point:"
   ]
  },
  {
   "cell_type": "code",
   "execution_count": 2,
   "metadata": {
    "id": "iz-uGmypJQP-"
   },
   "outputs": [
    {
     "ename": "TypeError",
     "evalue": "Point.set_coords() missing 1 required positional argument: 'self'",
     "output_type": "error",
     "traceback": [
      "\u001b[1;31m---------------------------------------------------------------------------\u001b[0m",
      "\u001b[1;31mTypeError\u001b[0m                                 Traceback (most recent call last)",
      "Cell \u001b[1;32mIn[2], line 1\u001b[0m\n\u001b[1;32m----> 1\u001b[0m Point\u001b[38;5;241m.\u001b[39mset_coords()\n",
      "\u001b[1;31mTypeError\u001b[0m: Point.set_coords() missing 1 required positional argument: 'self'"
     ]
    }
   ],
   "source": [
    "Point.set_coords()"
   ]
  },
  {
   "cell_type": "markdown",
   "metadata": {
    "id": "ffuLEkYSJRBM"
   },
   "source": [
    "и все будет работать без ошибок. Здесь мы видим, как вызываются методы класса. Все довольно очевидно. Записываем имя класса (Point), и через точку указываем имя метода. В конце обязательно прописываем круглые скобки, так как это оператор вызова функций. И, так как метод – это функция класса, то для вызова метода используется тот же оператор, что и для вызова функций.\n",
    "\n",
    "В результате, мы получили класс, в котором два свойства и один метод. Далее, создадим экземпляр этого класса:"
   ]
  },
  {
   "cell_type": "code",
   "execution_count": null,
   "metadata": {
    "id": "UAop05GBJWkm"
   },
   "outputs": [],
   "source": [
    "pt = Point()"
   ]
  },
  {
   "cell_type": "markdown",
   "metadata": {
    "id": "THo43k_fJXiP"
   },
   "source": [
    "И, как мы с вами говорили, через объект pt можно обращаться ко всем атрибутам класса Point, в том числе и к методу set_coords:"
   ]
  },
  {
   "cell_type": "code",
   "execution_count": null,
   "metadata": {
    "id": "MmoCPmuiJZnJ"
   },
   "outputs": [],
   "source": [
    "pt.set_coords"
   ]
  },
  {
   "cell_type": "markdown",
   "metadata": {
    "id": "H-6vaBlOJbFO"
   },
   "source": [
    "Этот атрибут ссылается на объект-функцию, которую мы определили в классе Point. Попробуем ее вызвать:"
   ]
  },
  {
   "cell_type": "markdown",
   "metadata": {
    "id": "toPPkfjkJcnG"
   },
   "source": [
    "pt.set_coords()"
   ]
  },
  {
   "cell_type": "markdown",
   "metadata": {
    "id": "zEL_J26TJfr9"
   },
   "source": [
    "Видим ошибку, что в метод set_coords при вызове передается один аргумент, а он у нас определен без параметров. Дело в том, что когда мы вызываем методы класса через его объекты, то интерпретатор Python автоматически добавляет первым аргументом ссылку на объект, из которого этот метод вызывается."
   ]
  },
  {
   "cell_type": "markdown",
   "metadata": {
    "id": "K_U-fWvqJk2s"
   },
   "source": [
    "![image001.png](data:image/png;base64,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)"
   ]
  },
  {
   "cell_type": "markdown",
   "metadata": {
    "id": "QTAPbDgYJs4I"
   },
   "source": [
    "Поэтому, если мы хотим внутри класса определить метод, который можно было бы вызывать из его экземпляров, то дополнительно прописывается первый параметр, обычно, с именем self:"
   ]
  },
  {
   "cell_type": "code",
   "execution_count": 3,
   "metadata": {
    "id": "BBKEYGD5JulB"
   },
   "outputs": [],
   "source": [
    "class Point:\n",
    "    color = 'red'\n",
    "    circle = 2\n",
    " \n",
    "    def set_coords(self):\n",
    "        print(\"вызов метода set_coords \" + str(self))"
   ]
  },
  {
   "cell_type": "markdown",
   "metadata": {},
   "source": [
    "Внутри метода класса мы можем ссылаться на экземпляр с помощью специального аргумента, который условно называется self. self всегда является первым атрибутом метода экземпляра."
   ]
  },
  {
   "cell_type": "markdown",
   "metadata": {
    "id": "9tsMh9-NJxVr"
   },
   "source": [
    "Еще раз, параметр self будет ссылаться на экземпляр класса, из которого вызывается метод. Зачем это надо? Сейчас узнаете. После этого дополнения мы уже не сможем вызвать данный метод через класс без указания первого аргумента:"
   ]
  },
  {
   "cell_type": "code",
   "execution_count": 4,
   "metadata": {
    "id": "U1cLvnicJsMH"
   },
   "outputs": [
    {
     "ename": "TypeError",
     "evalue": "Point.set_coords() missing 1 required positional argument: 'self'",
     "output_type": "error",
     "traceback": [
      "\u001b[1;31m---------------------------------------------------------------------------\u001b[0m",
      "\u001b[1;31mTypeError\u001b[0m                                 Traceback (most recent call last)",
      "Cell \u001b[1;32mIn[4], line 1\u001b[0m\n\u001b[1;32m----> 1\u001b[0m Point\u001b[38;5;241m.\u001b[39mset_coords()\n",
      "\u001b[1;31mTypeError\u001b[0m: Point.set_coords() missing 1 required positional argument: 'self'"
     ]
    }
   ],
   "source": [
    "Point.set_coords()"
   ]
  },
  {
   "cell_type": "markdown",
   "metadata": {
    "id": "5Rmh4rLuJ3GT"
   },
   "source": [
    "но можем через его объекты:"
   ]
  },
  {
   "cell_type": "code",
   "execution_count": 6,
   "metadata": {
    "id": "xK3ChkSQJ47z"
   },
   "outputs": [
    {
     "ename": "NameError",
     "evalue": "name 'pt' is not defined",
     "output_type": "error",
     "traceback": [
      "\u001b[1;31m---------------------------------------------------------------------------\u001b[0m",
      "\u001b[1;31mNameError\u001b[0m                                 Traceback (most recent call last)",
      "Cell \u001b[1;32mIn[6], line 1\u001b[0m\n\u001b[1;32m----> 1\u001b[0m pt\u001b[38;5;241m.\u001b[39mset_coords()\n",
      "\u001b[1;31mNameError\u001b[0m: name 'pt' is not defined"
     ]
    }
   ],
   "source": [
    "pt.set_coords()"
   ]
  },
  {
   "cell_type": "markdown",
   "metadata": {
    "id": "cLf4sxAOJ6pb"
   },
   "source": [
    "То есть, когда метод вызывается через класс, то Python автоматически не подставляет никаких аргументов. А когда вызов идет через экземпляры класса, то первый аргумент – это всегда ссылка на экземпляр. Данный момент нужно знать и помнить.\n",
    "\n",
    "Но мы все же можем вызвать метод set_coords и через класс, если явно передадим ссылку на объект pt, следующим образом:"
   ]
  },
  {
   "cell_type": "code",
   "execution_count": null,
   "metadata": {
    "id": "0QA3eFHQJ78X"
   },
   "outputs": [],
   "source": [
    "Point.set_coords(pt)"
   ]
  },
  {
   "cell_type": "markdown",
   "metadata": {
    "id": "dAIuEPpSJ87E"
   },
   "source": [
    "Именно это на автомате делает Python, когда вызов осуществляется через объекты классов.\n",
    "\n",
    "Так зачем понадобилось такое поведение? Дело в том, что метод класса – это тоже его атрибут и когда создаются экземпляры класса, то метод становится общим для всех объектов и не копируется в них. Фактически, только благодаря параметру self мы «знаем» какой объект вызвал данный метод и можем организовать с ним обратную связь.\n",
    "\n",
    "Например, пусть метод set_coords задает координаты точек для текущего объекта. Тогда, мы пропишем в нем два дополнительных параметра и через self в самом экземпляре класса создадим (либо переопределим) два свойства:"
   ]
  },
  {
   "cell_type": "code",
   "execution_count": null,
   "metadata": {
    "id": "7hl86qt4J-dx"
   },
   "outputs": [],
   "source": [
    "class Point:\n",
    "    color = 'red'\n",
    "    circle = 2\n",
    " \n",
    "    def set_coords(self, x, y):\n",
    "        self.x = x\n",
    "        self.y = y"
   ]
  },
  {
   "cell_type": "markdown",
   "metadata": {
    "id": "1ByXO1fwJ_iD"
   },
   "source": [
    "В результате, при вызове метода:"
   ]
  },
  {
   "cell_type": "code",
   "execution_count": 7,
   "metadata": {
    "id": "PbNQsN0yKBRd"
   },
   "outputs": [
    {
     "ename": "NameError",
     "evalue": "name 'pt' is not defined",
     "output_type": "error",
     "traceback": [
      "\u001b[1;31m---------------------------------------------------------------------------\u001b[0m",
      "\u001b[1;31mNameError\u001b[0m                                 Traceback (most recent call last)",
      "Cell \u001b[1;32mIn[7], line 1\u001b[0m\n\u001b[1;32m----> 1\u001b[0m pt\u001b[38;5;241m.\u001b[39mset_coords(\u001b[38;5;241m1\u001b[39m, \u001b[38;5;241m2\u001b[39m)\n\u001b[0;32m      2\u001b[0m \u001b[38;5;28mprint\u001b[39m(pt\u001b[38;5;241m.\u001b[39m\u001b[38;5;18m__dict__\u001b[39m)\n",
      "\u001b[1;31mNameError\u001b[0m: name 'pt' is not defined"
     ]
    }
   ],
   "source": [
    "pt.set_coords(1, 2)\n",
    "print(pt.__dict__)"
   ]
  },
  {
   "cell_type": "markdown",
   "metadata": {
    "id": "fWmxt55fKCWT"
   },
   "source": [
    "в объекте pt будут созданы два свойства x, y со значениями 1 и 2. Вот для чего нужен этот параметр self. Если в программе создать еще один объект:"
   ]
  },
  {
   "cell_type": "code",
   "execution_count": null,
   "metadata": {
    "id": "CcXQeI05KHPP"
   },
   "outputs": [],
   "source": [
    "pt2 = Point()"
   ]
  },
  {
   "cell_type": "markdown",
   "metadata": {
    "id": "CP4IfmISKII4"
   },
   "source": [
    "и через него вызвать тот же самый метод:"
   ]
  },
  {
   "cell_type": "code",
   "execution_count": null,
   "metadata": {
    "id": "84qcPZwWKKl1"
   },
   "outputs": [],
   "source": [
    "pt2.set_coords(10, 20)\n",
    "print(pt2.__dict__)"
   ]
  },
  {
   "cell_type": "markdown",
   "metadata": {
    "id": "OGiQQd4BKLja"
   },
   "source": [
    "То увидим, что свойства x, y со значениями 10 и 20 были созданы только в нем (в его пространстве имен) и никак не связаны с координатами другого объекта pt или классом Point. То есть, через self мы работаем с конкретным объектом, из которого был вызван данный метод.\n",
    "\n",
    "Конечно, в классах мы можем прописывать произвольное количество методов. Например, определим еще один, который будет возвращать координаты точки в виде кортежа значений:"
   ]
  },
  {
   "cell_type": "code",
   "execution_count": null,
   "metadata": {
    "id": "BvdtGEeSKNq9"
   },
   "outputs": [],
   "source": [
    "class Point:\n",
    "    color = 'red'\n",
    "    circle = 2\n",
    " \n",
    "    def set_coords(self, x, y):\n",
    "        self.x = x\n",
    "        self.y = y\n",
    " \n",
    "    def get_coords(self):\n",
    "        return (self.x, self.y)"
   ]
  },
  {
   "cell_type": "markdown",
   "metadata": {
    "id": "xlqsxcrkKSSp"
   },
   "source": [
    "И ниже в программе можем вызвать его:"
   ]
  },
  {
   "cell_type": "code",
   "execution_count": null,
   "metadata": {
    "id": "rXROcZCEKUDk"
   },
   "outputs": [],
   "source": [
    "print(pt.get_coords())"
   ]
  },
  {
   "cell_type": "markdown",
   "metadata": {
    "id": "GP7dbTlPKUxM"
   },
   "source": [
    "Интересно, что так как имя метода – это атрибут класса, то мы можем обратиться к нему через знакомую нам уже функцию:"
   ]
  },
  {
   "cell_type": "code",
   "execution_count": null,
   "metadata": {
    "id": "X4-eLYztKXrF"
   },
   "outputs": [],
   "source": [
    "res = getattr(pt, 'get_coords')\n",
    "print(res)"
   ]
  },
  {
   "cell_type": "markdown",
   "metadata": {
    "id": "t1KW-7SAKazu"
   },
   "source": [
    "Видим, что это ссылка на объект-функцию. А раз так, то ничто нам не мешает ее здесь вызывать:"
   ]
  },
  {
   "cell_type": "code",
   "execution_count": null,
   "metadata": {
    "id": "O3rNFXkrKbRM"
   },
   "outputs": [],
   "source": [
    "print(res())"
   ]
  },
  {
   "cell_type": "markdown",
   "metadata": {
    "id": "9f2c2M35Kc2g"
   },
   "source": [
    "Конечно, так делают очень редко. Обычно используют синтаксис через точку. Я привел это, чтобы еще раз подчеркнуть, что имена методов – это те же самые атрибуты, просто они ведут не на данные, а на функции. Во всем остальном они схожи с атрибутами-данными класса."
   ]
  },
  {
   "cell_type": "markdown",
   "metadata": {
    "id": "JdlR0KNtKd__"
   },
   "source": [
    "# Заключение\n",
    "\n",
    "Итак, на этом занятии вы должны были узнать, как определяются простые методы класса, за что отвечает параметр self и как происходит обращение к методам и их вызов. Если все это понятно, то смело переходите к следующему занятию, где мы продолжим эту тему."
   ]
  },
  {
   "cell_type": "markdown",
   "metadata": {
    "id": "f-fSzVjrJTb7"
   },
   "source": []
  },
  {
   "cell_type": "markdown",
   "metadata": {
    "id": "0E91C-qXLNOd"
   },
   "source": [
    "# Вопросы"
   ]
  },
  {
   "cell_type": "markdown",
   "metadata": {
    "id": "vEOaWOzILPif"
   },
   "source": [
    "1. Что называется методом класса?\n",
    "\n",
    "Выберите один вариант из списка\n",
    "\n",
    "Любая (не статическая) функция, объявленная внутри класса\n",
    "\n",
    "Переменные и функции внутри класса\n",
    "\n",
    "Такого термина в ООП нет\n",
    "\n",
    "Любая переменная, объявленная внутри класса"
   ]
  },
  {
   "cell_type": "code",
   "execution_count": null,
   "metadata": {
    "id": "qw3t4NvZLq47"
   },
   "outputs": [],
   "source": [
    "Любая (не статическая) функция, объявленная внутри класса"
   ]
  },
  {
   "cell_type": "markdown",
   "metadata": {
    "id": "5BzVwTdhLrL7"
   },
   "source": [
    "2. Что называют атрибутами класса?\n",
    "\n",
    "Выберите один вариант из списка\n",
    "\n",
    "\n",
    "Только переменные класса\n",
    "\n",
    "Только методы класса\n",
    "\n",
    "Экземпляры (объекты) класса\n",
    "\n",
    "Переменные и имена методов (ссылки на методы) класса"
   ]
  },
  {
   "cell_type": "code",
   "execution_count": null,
   "metadata": {
    "id": "667Hw5FQLu21"
   },
   "outputs": [],
   "source": [
    "Переменные и имена методов (ссылки на методы) класса"
   ]
  },
  {
   "cell_type": "markdown",
   "metadata": {
    "id": "KWI2TKk2L1jN"
   },
   "source": [
    "3. Какую роль играет параметр self в методах класса?\n",
    "\n",
    "Выберите один вариант из списка\n",
    "\n",
    "это ссылка на объект класса, из которого был вызван метод\n",
    "\n",
    "это ссылка на класс, которому принадлежит метод\n",
    "\n",
    "это ссылка на текущий метод класса\n",
    "\n",
    "это просто обязательный (зарезервированный) параметр для методов класса, через который можно передавать произвольные данные"
   ]
  },
  {
   "cell_type": "code",
   "execution_count": null,
   "metadata": {
    "id": "jPxZYljGL56Y"
   },
   "outputs": [],
   "source": [
    "это ссылка на текущий метод класса"
   ]
  },
  {
   "cell_type": "markdown",
   "metadata": {
    "id": "Wi67k8K4MAJU"
   },
   "source": [
    "4. Объявите класс с именем MediaPlayer с двумя методами:\n",
    "\n",
    "open(file) - для открытия медиа-файла с именем file (создает локальное свойство filename со значением аргумента file в объекте класса MediaPlayer)\n",
    "play() - для воспроизведения медиа-файла (выводит на экран строку \"Воспроизведение <название медиа-файла>\")\n",
    "\n",
    "Создайте два экземпляра этого класса с именами: media1 и media2. Вызовите из них метод open() с аргументом \"filemedia1\" для объекта media1 и \"filemedia2\" для объекта media2. После этого вызовите через объекты метод play(). При этом, на экране должно отобразиться две строки (без кавычек):\n",
    "\n",
    "\"Воспроизведение filemedia1\"\n",
    "\n",
    "\"Воспроизведение filemedia2\""
   ]
  },
  {
   "cell_type": "code",
   "execution_count": 1,
   "metadata": {
    "id": "gSmCDNmaMGei"
   },
   "outputs": [
    {
     "name": "stdout",
     "output_type": "stream",
     "text": [
      "Воспроизведение filemedia1\n",
      "Воспроизведение filemedia2\n"
     ]
    }
   ],
   "source": [
    "class MediaPlayer:\n",
    "    \n",
    "    def open(self, file):\n",
    "        self.filename = file\n",
    "        \n",
    "    def play(self):\n",
    "        print(\"Воспроизведение\", self.filename)\n",
    "        \n",
    "media1 = MediaPlayer()\n",
    "media2 = MediaPlayer()\n",
    "\n",
    "media1.open(\"filemedia1\")\n",
    "media2.open(\"filemedia2\")\n",
    "\n",
    "media1.play()\n",
    "media2.play()"
   ]
  },
  {
   "cell_type": "markdown",
   "metadata": {
    "id": "ZP2WwyXyMG7D"
   },
   "source": [
    "5. Объявите класс с именем Graph и методами:\n",
    "\n",
    "set_data(data) - передача набора данных data для последующего отображения (data - список числовых данных);\n",
    "draw() - отображение данных (в том же порядке, что и в списке data)\n",
    "\n",
    "и атрибутом:\n",
    "\n",
    "LIMIT_Y = [0, 10]\n",
    "\n",
    "Метод set_data() должен формировать локальное свойство data объекта класса Graph. Атрибут data должен ссылаться на переданный в метод список. Метод draw() должен выводить на экран список в виде строки из чисел, разделенных пробелами и принадлежащие заданному диапазону атрибута LIMIT_Y (границы включаются).\n",
    "\n",
    "Создайте объект graph_1 класса Graph, вызовите для него метод set_data() и передайте список:\n",
    "\n",
    "[10, -5, 100, 20, 0, 80, 45, 2, 5, 7]\n",
    "\n",
    "Затем, вызовите метод draw() через объект graph_1. На экране должна появиться строка с соответствующим набором чисел, записанных через пробел. Например (вывод без кавычек):\n",
    "\n",
    "\"10 0 2 5 7\""
   ]
  },
  {
   "cell_type": "code",
   "execution_count": 2,
   "metadata": {
    "id": "WS0OH0KvMMQc"
   },
   "outputs": [
    {
     "name": "stdout",
     "output_type": "stream",
     "text": [
      "10 0 2 5 7\n"
     ]
    }
   ],
   "source": [
    "class Graph:\n",
    "    \n",
    "    LIMIT_Y = [0, 10]\n",
    "    \n",
    "    def set_data(self, data):\n",
    "        self.data = data \n",
    "    \n",
    "    def draw(self):\n",
    "        print(\" \".join(str(x) for x in self.data if self.LIMIT_Y[0] <= x <= self.LIMIT_Y[1]))\n",
    "graph_1 = Graph()\n",
    "graph_1.set_data([10, -5, 100, 20, 0, 80, 45, 2, 5, 7])\n",
    "graph_1.draw()"
   ]
  },
  {
   "cell_type": "markdown",
   "metadata": {
    "id": "czIDyqH0MOOV"
   },
   "source": [
    "6. Имеется следующий класс:\n",
    "```\n",
    "class Tasks:\n",
    "    def next_task(self):\n",
    "        return \"Следующее задание\"\n",
    "```\n",
    "И создается объект этого класса:\n",
    "```\n",
    "my_t = Tasks()\n",
    "```\n",
    "Выберите все верные варианты вызова метода next_task()\n",
    "\n",
    "my_t.next_task()\n",
    "\n",
    "Tasks.my_t.next_task()\n",
    "\n",
    "next_task(my_t)\n",
    "\n",
    "next_task(Tasks)\n",
    "\n",
    "Tasks.next_task(my_t)\n",
    "\n",
    "my_t.next_task(Tasks)"
   ]
  },
  {
   "cell_type": "code",
   "execution_count": null,
   "metadata": {
    "id": "DHwQ7vo4Mqtw"
   },
   "outputs": [],
   "source": [
    "my_t.next_task()\n",
    "Tasks.next_task(my_t)"
   ]
  },
  {
   "cell_type": "markdown",
   "metadata": {
    "id": "t90nSS0TM-s-"
   },
   "source": [
    "7. Имеется следующий класс для считывания информации из входного потока:\n",
    "```\n",
    "import sys\n",
    "\n",
    "\n",
    "class StreamReader:\n",
    "    FIELDS = ('id', 'title', 'pages')\n",
    "\n",
    "    def readlines(self):\n",
    "        lst_in = list(map(str.strip, sys.stdin.readlines()))  # считывание списка строк из входного потока\n",
    "        sd = StreamData()\n",
    "        res = sd.create(self.FIELDS, lst_in)\n",
    "        return sd, res\n",
    "```\n",
    "Которым, затем, можно воспользоваться следующим образом:\n",
    "```\n",
    "sr = StreamReader()\n",
    "data, result = sr.readlines()\n",
    "```\n",
    "Необходимо перед классом StreamReader объявить еще один класс StreamData с методом:\n",
    "\n",
    "def create(self, fields, lst_values): ...\n",
    "\n",
    "который бы на входе получал кортеж FIELDS из названий локальных атрибутов (передается в атрибут fields) и список строк lst_in (передается в атрибут lst_values) и формировал бы в объекте класса StreamData локальные свойства с именами полей из fields и соответствующими значениями из lst_values.\n",
    "\n",
    "Если создание локальных свойств проходит успешно, то метод create() возвращает True, иначе - False. Если число полей и число строк не совпадает, то метод create() возвращает False и локальные атрибуты создавать не нужно.\n",
    "\n",
    "P.S. В программе нужно дополнительно объявить только класс StreamData. Больше ничего делать не нужно.\n",
    "\n",
    "https://stackoverflow.com/questions/5549141/how-to-finish-sys-stdin-readlines-input"
   ]
  },
  {
   "cell_type": "code",
   "execution_count": 1,
   "metadata": {
    "id": "oxdvk9i_NGBV"
   },
   "outputs": [],
   "source": [
    "import sys\n",
    "\n",
    "class StreamData:\n",
    "    def create(self, fields, lst_values):\n",
    "        if len(fields) != len(lst_values):  # Проверка совпадения числа полей и значений\n",
    "            return False\n",
    "\n",
    "        else:\n",
    "            for field, value in zip(fields, lst_values):\n",
    "                setattr(self, field, value)  # Создание локального свойства с именем поля и значением из lst_values\n",
    "\n",
    "        return True\n",
    "\n",
    "class StreamReader:\n",
    "    FIELDS = ('id', 'title', 'pages')\n",
    "\n",
    "    def readlines(self):\n",
    "        lst_in = list(map(str.strip, sys.stdin.readlines()))  # считывание списка строк из входного потока\n",
    "        sd = StreamData()\n",
    "        res = sd.create(self.FIELDS, lst_in)\n",
    "        return sd, res\n",
    "sr = StreamReader()\n",
    "data, result = sr.readlines()"
   ]
  },
  {
   "cell_type": "markdown",
   "metadata": {
    "id": "vINLYJOTOCqH"
   },
   "source": [
    "8. В программе объявлен класс:\n",
    "```\n",
    "class String:\n",
    "    is_empty = False\n",
    "```\n",
    "А, затем, создаются два его экземпляра:\n",
    "```\n",
    "s1 = String()\n",
    "s2 = String()\n",
    "```\n",
    "После этого выполняется команда:\n",
    "```\n",
    "s2.is_empty = True\n",
    "```\n",
    "Выберите верные утверждения, связанные с этой программой.\n",
    "\n",
    "Значение s1.is_empty будет по-прежнему False, а значение s2.is_empty примет новое значение True\n",
    "\n",
    "Последняя команда изменит атрибут is_empty класса String на значение True\n",
    "\n",
    "Значения s1.is_empty и s2.is_empty будут совпадать и принимать значение True\n",
    "\n",
    "Переменная b = s2.is_empty будет ссылаться на локальный атрибут is_empty объекта s2\n",
    "\n",
    "Последняя команда создаст локальное свойство is_empty со значением True в экземпляре s2\n",
    "\n",
    "Переменная a = s1.is_empty будет ссылаться на атрибут is_empty класса String"
   ]
  },
  {
   "cell_type": "code",
   "execution_count": null,
   "metadata": {},
   "outputs": [],
   "source": [
    "Значение s1.is_empty будет по-прежнему False, а значение s2.is_empty примет новое значение True\n",
    "Переменная b = s2.is_empty будет ссылаться на локальный атрибут is_empty объекта s2\n",
    "\n",
    "Последняя команда создаст локальное свойство is_empty со значением True в экземпляре s2\n",
    "\n",
    "Переменная a = s1.is_empty будет ссылаться на атрибут is_empty класса String"
   ]
  },
  {
   "cell_type": "markdown",
   "metadata": {
    "id": "kdaHr8xJOnyS"
   },
   "source": [
    "9. Из входного потока читаются строки данных с помощью команды:\n",
    "```\n",
    "lst_in = list(map(str.strip, sys.stdin.readlines()))  # считывание списка строк из входного потока\n",
    "```\n",
    "в формате: id, name, old, salary (записанные через пробел). Например:\n",
    "\n",
    "1 Сергей 35 120000\n",
    "2 Федор 23 12000\n",
    "3 Иван 13 1200\n",
    "...\n",
    "\n",
    "То есть, каждая строка - это элемент списка lst_in.\n",
    "\n",
    "Необходимо в класс DataBase:\n",
    "```\n",
    "class DataBase:\n",
    "    lst_data = []\n",
    "    FIELDS = ('id', 'name', 'old', 'salary')\n",
    "```\n",
    "добавить два метода:\n",
    "\n",
    "select(self, a, b) - возвращает список из элементов списка lst_data в диапазоне [a; b] (включительно) по их индексам (не id, а индексам списка); также учесть, что граница b может превышать длину списка.\n",
    "insert(self, data) - для добавления в список lst_data новых данных из переданного списка строк data;\n",
    "\n",
    "Каждая запись в списке lst_data должна быть представлена словарем в формате:\n",
    "\n",
    "{'id': 'номер', 'name': 'имя', 'old': 'возраст', 'salary': 'зарплата'}\n",
    "\n",
    "Например:\n",
    "\n",
    "{'id': '1', 'name': 'Сергей', 'old': '35', 'salary': '120000'}\n",
    "\n",
    "Примечание: в этой задаче число элементов в строке (разделенных пробелом) всегда совпадает с числом полей в коллекции FIELDS.\n",
    "\n",
    "P. S. Ваша задача только добавить два метода в класс DataBase.\n",
    "\n",
    "Sample Input:\n",
    "\n",
    "1 Сергей 35 120000\n",
    "\n",
    "2 Федор 23 12000\n",
    "\n",
    "3 Иван 13 1200\n",
    "\n",
    "\n",
    "Useful func: zip()"
   ]
  },
  {
   "cell_type": "code",
   "execution_count": 2,
   "metadata": {
    "id": "_Xk9eYP5O00i"
   },
   "outputs": [
    {
     "name": "stdout",
     "output_type": "stream",
     "text": [
      "[{'id': '2', 'name': 'Федор', 'old': '23', 'salary': '12000'}, {'id': '3', 'name': 'Иван', 'old': '13', 'salary': '1200'}]\n"
     ]
    }
   ],
   "source": [
    "import sys\n",
    "\n",
    "lst_in = ['1 Сергей 35 120000', '2 Федор 23 12000', '3 Иван 13 1200']\n",
    "\n",
    "class DataBase:\n",
    "    lst_data = []\n",
    "    FIELDS = ('id', 'name', 'old', 'salary')\n",
    "\n",
    "    def select(self, a, b):\n",
    "        return self.lst_data[a : min(b+1, len(self.lst_data))]\n",
    "\n",
    "    def insert(self, data):\n",
    "        for item in data:\n",
    "            values = item.split()\n",
    "            record = {field: value for field, value in zip(self.FIELDS, values)}\n",
    "            self.lst_data.append(record)\n",
    "\n",
    "db = DataBase()\n",
    "db.insert(lst_in)\n",
    "\n",
    "#Пример использования метода select: выбор элементов по индексам 1 и 2\n",
    "selected_data = db.select(1, 2)\n",
    "print(selected_data)"
   ]
  },
  {
   "cell_type": "markdown",
   "metadata": {
    "id": "Kk0yx6TpP7S8"
   },
   "source": [
    "10. Объявите класс с именем Translator (для перевода с английского на русский) со следующими методами:\n",
    "\n",
    "add(self, eng, rus) - для добавления новой связки английского и русского слова (если английское слово уже существует, то новое русское слово добавляется как синоним для перевода, например, go - идти, ходить, ехать); если связка eng-rus уже существует, то второй раз ее добавлять не нужно, например:  add('go', 'идти'), add('go', 'идти');\n",
    "remove(self, eng) - для удаления связки по указанному английскому слову;\n",
    "translate(self, eng) - для перевода с английского на русский (метод должен возвращать список из русских слов, соответствующих переводу английского слова, даже если в списке всего одно слово).\n",
    "\n",
    "Все добавления и удаления связок должны выполняться внутри каждого конкретного объекта класса Translator, т.е. связки хранить локально внутри экземпляров классов класса Translator.\n",
    "\n",
    "Создайте экземпляр tr класса Translator и вызовите метод add для следующих связок:\n",
    "\n",
    "tree - дерево\n",
    "\n",
    "car - машина\n",
    "\n",
    "car - автомобиль\n",
    "\n",
    "leaf - лист\n",
    "\n",
    "river - река\n",
    "\n",
    "go - идти\n",
    "\n",
    "go - ехать\n",
    "\n",
    "go - ходить\n",
    "\n",
    "milk - молоко\n",
    "\n",
    "Затем методом remove() удалите связку для английского слова car. С помощью метода translate() переведите слово go. Результат выведите на экран в виде строки из всех русских слов, связанных со словом go:\n",
    "\n",
    "Вывод в формате: идти ехать ходить"
   ]
  },
  {
   "cell_type": "code",
   "execution_count": 6,
   "metadata": {
    "id": "QKHs2KgZP7-g"
   },
   "outputs": [
    {
     "name": "stdout",
     "output_type": "stream",
     "text": [
      "идти ехать ходить\n"
     ]
    }
   ],
   "source": [
    "class Translator:\n",
    "    def __init__(self):\n",
    "        self.dictionary = {}\n",
    "    def add(self, eng, rus):\n",
    "        if eng in self.dictionary:\n",
    "            if rus not in self.dictionary[eng]:\n",
    "                self.dictionary[eng].append(rus)\n",
    "        else:\n",
    "            self.dictionary[eng] = [rus]\n",
    "    def remove(self, eng):\n",
    "        if eng in self.dictionary:\n",
    "            del self.dictionary[eng]\n",
    "    def translate(self, eng):\n",
    "        if eng in self.dictionary:\n",
    "            return self.dictionary[eng]\n",
    "        else:\n",
    "            return []\n",
    "\n",
    "tr = Translator()\n",
    "tr.add('tree', 'дерево')\n",
    "tr.add('car', 'машина')\n",
    "tr.add('car', 'автомобиль')\n",
    "tr.add('leaf', 'лист')\n",
    "tr.add('river', 'река')\n",
    "tr.add('go', 'идти')\n",
    "tr.add('go', 'ехать')\n",
    "tr.add('go', 'ходить')\n",
    "tr.add('milk', 'молоко')\n",
    "tr.remove('сar')\n",
    "translation = tr.translate('go')\n",
    "print(' '.join(translation))"
   ]
  },
  {
   "cell_type": "markdown",
   "metadata": {
    "id": "YhJgPUC2LZJQ"
   },
   "source": [
    "# Ответы для проверки"
   ]
  },
  {
   "cell_type": "markdown",
   "metadata": {
    "id": "H_vsL8I5Lk6X"
   },
   "source": [
    "1)\n",
    "\n",
    "Любая (не статическая) функция, объявленная внутри класса"
   ]
  },
  {
   "cell_type": "markdown",
   "metadata": {
    "id": "6gdVyzqiLw8U"
   },
   "source": [
    "2)\n",
    "\n",
    "Переменные и имена методов (ссылки на методы) класса"
   ]
  },
  {
   "cell_type": "markdown",
   "metadata": {
    "id": "OvoPlPgeL6nM"
   },
   "source": [
    "3)\n",
    "\n",
    "это ссылка на объект класса, из которого был вызван метод"
   ]
  },
  {
   "cell_type": "markdown",
   "metadata": {
    "id": "UIzxCez7MsIf"
   },
   "source": [
    "6)\n",
    "\n",
    "my_t.next_task()\n",
    "\n",
    "Tasks.next_task(my_t)"
   ]
  },
  {
   "cell_type": "markdown",
   "metadata": {
    "id": "6avJadAROZmP"
   },
   "source": [
    "8)\n",
    "\n",
    "Значение s1.is_empty будет по-прежнему False, а значение s2.is_empty примет новое значение True\n",
    "\n",
    "Переменная b = s2.is_empty будет ссылаться на локальный атрибут is_empty объекта s2\n",
    "\n",
    "Последняя команда создаст локальное свойство is_empty со значением True в экземпляре s2\n",
    "\n",
    "Переменная a = s1.is_empty будет ссылаться на атрибут is_empty класса String"
   ]
  },
  {
   "cell_type": "code",
   "execution_count": null,
   "metadata": {
    "id": "dAjT8BrIL7NS"
   },
   "outputs": [],
   "source": []
  }
 ],
 "metadata": {
  "colab": {
   "provenance": []
  },
  "kernelspec": {
   "display_name": "Python 3 (ipykernel)",
   "language": "python",
   "name": "python3"
  },
  "language_info": {
   "codemirror_mode": {
    "name": "ipython",
    "version": 3
   },
   "file_extension": ".py",
   "mimetype": "text/x-python",
   "name": "python",
   "nbconvert_exporter": "python",
   "pygments_lexer": "ipython3",
   "version": "3.12.0"
  },
  "vscode": {
   "interpreter": {
    "hash": "31f2aee4e71d21fbe5cf8b01ff0e069b9275f58929596ceb00d14d90e3e16cd6"
   }
  }
 },
 "nbformat": 4,
 "nbformat_minor": 1
}

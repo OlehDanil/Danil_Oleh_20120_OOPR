{
 "cells": [
  {
   "attachments": {},
   "cell_type": "markdown",
   "metadata": {},
   "source": [
    "# 1) setattr\n",
    "Объявите класс Book для представления информации о книге. Объекты этого класса должны создаваться командами:\n",
    "```\n",
    "book = Book()\n",
    "book = Book(название, автор, число страниц, год издания)\n",
    "```\n",
    "В каждом объекте класса Book автоматически должны формироваться следующие локальные свойства:\n",
    "\n",
    "title - заголовок книги (строка, по умолчанию пустая строка);\n",
    "author - автор книги (строка, по умолчанию пустая строка);\n",
    "pages - число страниц (целое число, по умолчанию 0);\n",
    "year - год издания (целое число, по умолчанию 0).\n",
    "\n",
    "Объявите в классе Book магический метод __setattr__ для проверки типов присваиваемых данных локальным свойствам title, author, pages и year. Если типы не соответствуют локальному атрибуту (например, title должна ссылаться на строку, а pages - на целое число), то генерировать исключение командой:\n",
    "```\n",
    "raise TypeError(\"Неверный тип присваиваемых данных.\")\n",
    "```\n",
    "Создайте в программе объект book класса Book для книги:\n",
    "\n",
    "автор: JK\n",
    "заголовок: OOP\n",
    "pages: 123\n",
    "year: 2022"
   ]
  },
  {
   "cell_type": "code",
   "execution_count": null,
   "metadata": {},
   "outputs": [],
   "source": []
  },
  {
   "cell_type": "code",
   "execution_count": 48,
   "metadata": {},
   "outputs": [
    {
     "name": "stdout",
     "output_type": "stream",
     "text": [
      "{'title': 'OOP', 'author': 'JK', 'pages': 123, 'year': 2020}\n"
     ]
    }
   ],
   "source": [
    "\n",
    "class Book:\n",
    "    ff = 0\n",
    "    def __init__(self,author='',title='',pages=0, year=0 ):# автоматическое добавление переменных\n",
    "        self.title = title\n",
    "        self.author = author\n",
    "        self.pages = pages\n",
    "        self.year = year\n",
    "    def __setattr__(self,key,value):\n",
    "        if key == 'title' or key =='author':\n",
    "            if isinstance(value,int):\n",
    "                raise TypeError(\"Неверный тип присваиваемых данных. \")#генерируем исключение\n",
    "            else:\n",
    "                object.__setattr__(self,key,value)# присваиваем определенное значение\n",
    "        else:\n",
    "            if isinstance(value,str):\n",
    "                raise TypeError(\"Неверный тип присваиваемых данных. \") #генерируем исключение\n",
    "            else:\n",
    "                object.__setattr__(self,key,value) #присваиваем определенное значение\n",
    "book = Book('JK','OOP', 123, 2020)\n",
    "print(book.__dict__)"
   ]
  },
  {
   "attachments": {},
   "cell_type": "markdown",
   "metadata": {},
   "source": [
    "# 2) call\n",
    "Объявите класс RandomPassword для генерации случайных паролей. Объекты этого класса должны создаваться командой:\n",
    "```\n",
    "rnd = RandomPassword(psw_chars, min_length, max_length)\n",
    "```\n",
    "где psw_chars - строка из разрешенных в пароле символов; min_length, max_length - минимальная и максимальная длина генерируемых паролей.\n",
    "\n",
    "Непосредственная генерация одного пароля должна выполняться командой:\n",
    "```\n",
    "psw = rnd()\n",
    "```\n",
    "где psw - ссылка на строку длиной в диапазоне [min_length; max_length] из случайно выбранных символов строки psw_chars.\n",
    "\n",
    "С помощью генератора списка (list comprehension) создайте список lst_pass из трех сгенерированных паролей объектом rnd класса RandomPassword, созданного с параметрами: \n",
    "```\n",
    "min_length = 5\n",
    "max_length = 20\n",
    "psw_chars = \"qwertyuiopasdfghjklzxcvbnm0123456789!@#$%&*\"\n",
    "```"
   ]
  },
  {
   "cell_type": "code",
   "execution_count": 49,
   "metadata": {},
   "outputs": [
    {
     "name": "stdout",
     "output_type": "stream",
     "text": [
      "['j0@so5', 'v6@wcnmlm3j$wha7o', 'b1j%pv@w$qo@']\n"
     ]
    }
   ],
   "source": [
    "import random\n",
    "class RandomPassword:\n",
    "    def __init__(self,psw_chars ='', min_length= 0, max_length=0):\n",
    "        self.psw_chars = psw_chars\n",
    "        self.min_length = min_length\n",
    "        self.max_length = max_length\n",
    "    def rnd(self):\n",
    "        password = ''\n",
    "        for i in range(random.randint(self.min_length,self.max_length+1)):\n",
    "            password+=random.choice(self.psw_chars)\n",
    "        return password\n",
    "    def __call__(self,*args,**kwargs):\n",
    "        return self.rnd()\n",
    "rnd = RandomPassword(\"qwertyuiopasdfghjklzxcvbnm0123456789!@#$%&*\",5,20)\n",
    "psw = rnd()\n",
    "lst_pass = [rnd() for _ in range(3)]\n",
    "print(lst_pass)\n",
    "    "
   ]
  },
  {
   "attachments": {},
   "cell_type": "markdown",
   "metadata": {},
   "source": [
    "# 3) str\n",
    "Объявите класс с именем Book (книга), объекты которого создаются командой:\n",
    "```\n",
    "book = Book(title, author, pages)\n",
    "```\n",
    "где title - название книги (строка); author - автор книги (строка); pages - число страниц в книге (целое число).\n",
    "\n",
    "Также при выводе информации об объекте на экран командой:\n",
    "```\n",
    "print(book)\n",
    "```\n",
    "должна отображаться строчка в формате:\n",
    "\n",
    "\"Книга: {title}; {author}; {pages}\"\n",
    "\n",
    "Например:\n",
    "\n",
    "\"Книга: Муму; Тургенев; 123\"\n",
    "\n",
    "Прочитайте из входного потока строки с информацией по книге командой: (Входной поток представляем в виде списка сразу)\n",
    "```\n",
    "lst_in = ['Python', 'JK', '1024']\n",
    "#lst_in = list(map(str.strip, sys.stdin.readlines()))\n",
    "```\n",
    "(строки идут в порядке: title, author, pages). Создайте объект класса Book и выведите его строковое представление в консоль."
   ]
  },
  {
   "cell_type": "code",
   "execution_count": 6,
   "metadata": {},
   "outputs": [
    {
     "name": "stdout",
     "output_type": "stream",
     "text": [
      "Книга: Python; JK; 1024\n"
     ]
    }
   ],
   "source": [
    "#import sys\n",
    "\n",
    "# здесь пишите программу\n",
    "class Book:\n",
    "    def __init__(self,title,author,pages):\n",
    "        self.title = title\n",
    "        self.author = author\n",
    "        self.pages = pages\n",
    "    def __str__(self) -> str:\n",
    "        return f\"{'Книга'}: {self.title}; {self.author}; {self.pages}\"\n",
    "\n",
    "lst_in = ['Python', 'JK', '1024']\n",
    "#lst_in = list(map(str.strip, sys.stdin.readlines())) # считывание списка из входного потока\n",
    "\n",
    "# и здесь\n",
    "book = Book('Python', 'JK', '1024')\n",
    "print(book)"
   ]
  },
  {
   "attachments": {},
   "cell_type": "markdown",
   "metadata": {},
   "source": [
    "# 4) \n",
    "Объявите класс WordString, объекты которого создаются командами:\n",
    "```\n",
    "w1 = WordString()\n",
    "w2 = WordString(string)\n",
    "```\n",
    "где string - передаваемая строка. Например:\n",
    "```\n",
    "words = WordString(\"Python ООП\")\n",
    "```\n",
    "Реализовать следующий функционал для объектов этого класса:\n",
    "\n",
    "len(words) - должно возвращаться число слов в переданной строке (слова разделяются одним или несколькими пробелами);\n",
    "\n",
    "words(indx) - должно возвращаться слово по его индексу (indx - порядковый номер слова в строке, начиная с 0).\n",
    "\n",
    "Также в классе WordString реализовать объект-свойство (property):\n",
    "\n",
    "string - для передачи и считывания строки.\n",
    "\n",
    "Пример пользования классом WordString (эти строчки в программе писать не нужно):\n",
    "```\n",
    "words = WordString()\n",
    "words.string = \"Python ООП\"\n",
    "n = len(words)\n",
    "first = \"\" if n == 0 else words(0)\n",
    "print(words.string)\n",
    "print(f\"Число слов: {n}; первое слово: {first}\")\n",
    "```"
   ]
  },
  {
   "cell_type": "code",
   "execution_count": 13,
   "metadata": {},
   "outputs": [
    {
     "name": "stdout",
     "output_type": "stream",
     "text": [
      "['Python', 'ООП']\n",
      "Число слов: 2; первое слово: Python\n"
     ]
    }
   ],
   "source": [
    "class WordString:\n",
    "    def __init__(self,string=''):\n",
    "        string = string.split()\n",
    "        self.string = string\n",
    "    def __len__(self):\n",
    "        return len(self.string)# вызываю функцию len для списка string\n",
    "    def __call__(self,indx):\n",
    "        return self.string[indx]\n",
    "words = WordString(\"Python ООП\")\n",
    "n = len(words)\n",
    "first = \"\" if n == 0 else words(0)\n",
    "print(words.string)\n",
    "print(f\"Число слов: {n}; первое слово: {first}\")"
   ]
  },
  {
   "cell_type": "code",
   "execution_count": 2,
   "metadata": {},
   "outputs": [
    {
     "name": "stdout",
     "output_type": "stream",
     "text": [
      "bbb\n"
     ]
    }
   ],
   "source": []
  }
 ],
 "metadata": {
  "kernelspec": {
   "display_name": "base",
   "language": "python",
   "name": "python3"
  },
  "language_info": {
   "codemirror_mode": {
    "name": "ipython",
    "version": 3
   },
   "file_extension": ".py",
   "mimetype": "text/x-python",
   "name": "python",
   "nbconvert_exporter": "python",
   "pygments_lexer": "ipython3",
   "version": "3.11.5"
  },
  "orig_nbformat": 4
 },
 "nbformat": 4,
 "nbformat_minor": 2
}
